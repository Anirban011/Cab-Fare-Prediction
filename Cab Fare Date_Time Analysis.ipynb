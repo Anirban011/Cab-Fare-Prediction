{
 "cells": [
  {
   "cell_type": "code",
   "execution_count": 1,
   "id": "bf396035",
   "metadata": {},
   "outputs": [],
   "source": [
    "# pip install haversine"
   ]
  },
  {
   "cell_type": "code",
   "execution_count": 2,
   "id": "a2f1ce23",
   "metadata": {},
   "outputs": [],
   "source": [
    "# pip install Numba"
   ]
  },
  {
   "cell_type": "code",
   "execution_count": 3,
   "id": "9be57fa1",
   "metadata": {},
   "outputs": [],
   "source": [
    "# pip install numpy"
   ]
  },
  {
   "cell_type": "code",
   "execution_count": 4,
   "id": "7720805a",
   "metadata": {},
   "outputs": [],
   "source": [
    "import pandas as pd \n",
    "import numpy as np \n",
    "import matplotlib.pyplot as plt\n",
    "import seaborn as sns\n",
    "from sklearn.metrics import mean_squared_error\n",
    "import haversine as hs"
   ]
  },
  {
   "cell_type": "code",
   "execution_count": 5,
   "id": "e302e244",
   "metadata": {},
   "outputs": [],
   "source": [
    "tf = pd.read_csv('C:/Users/Sambhu/Desktop/Imarticus/Class Material/Machine Learning/Random Forest/TaxiFare.csv')"
   ]
  },
  {
   "cell_type": "code",
   "execution_count": 6,
   "id": "0439cda3",
   "metadata": {},
   "outputs": [
    {
     "name": "stdout",
     "output_type": "stream",
     "text": [
      "<class 'pandas.core.frame.DataFrame'>\n",
      "RangeIndex: 50000 entries, 0 to 49999\n",
      "Data columns (total 8 columns):\n",
      " #   Column                Non-Null Count  Dtype  \n",
      "---  ------                --------------  -----  \n",
      " 0   unique_id             50000 non-null  object \n",
      " 1   amount                50000 non-null  float64\n",
      " 2   date_time_of_pickup   50000 non-null  object \n",
      " 3   longitude_of_pickup   50000 non-null  float64\n",
      " 4   latitude_of_pickup    50000 non-null  float64\n",
      " 5   longitude_of_dropoff  50000 non-null  float64\n",
      " 6   latitude_of_dropoff   50000 non-null  float64\n",
      " 7   no_of_passenger       50000 non-null  int64  \n",
      "dtypes: float64(5), int64(1), object(2)\n",
      "memory usage: 3.1+ MB\n"
     ]
    }
   ],
   "source": [
    "tf.info()"
   ]
  },
  {
   "cell_type": "code",
   "execution_count": 7,
   "id": "6fcff70b",
   "metadata": {},
   "outputs": [
    {
     "data": {
      "text/html": [
       "<div>\n",
       "<style scoped>\n",
       "    .dataframe tbody tr th:only-of-type {\n",
       "        vertical-align: middle;\n",
       "    }\n",
       "\n",
       "    .dataframe tbody tr th {\n",
       "        vertical-align: top;\n",
       "    }\n",
       "\n",
       "    .dataframe thead th {\n",
       "        text-align: right;\n",
       "    }\n",
       "</style>\n",
       "<table border=\"1\" class=\"dataframe\">\n",
       "  <thead>\n",
       "    <tr style=\"text-align: right;\">\n",
       "      <th></th>\n",
       "      <th>unique_id</th>\n",
       "      <th>amount</th>\n",
       "      <th>date_time_of_pickup</th>\n",
       "      <th>longitude_of_pickup</th>\n",
       "      <th>latitude_of_pickup</th>\n",
       "      <th>longitude_of_dropoff</th>\n",
       "      <th>latitude_of_dropoff</th>\n",
       "      <th>no_of_passenger</th>\n",
       "    </tr>\n",
       "  </thead>\n",
       "  <tbody>\n",
       "    <tr>\n",
       "      <th>0</th>\n",
       "      <td>26:21.0</td>\n",
       "      <td>4.5</td>\n",
       "      <td>2009-06-15 17:26:21 UTC</td>\n",
       "      <td>-73.844311</td>\n",
       "      <td>40.721319</td>\n",
       "      <td>-73.841610</td>\n",
       "      <td>40.712278</td>\n",
       "      <td>1</td>\n",
       "    </tr>\n",
       "    <tr>\n",
       "      <th>1</th>\n",
       "      <td>52:16.0</td>\n",
       "      <td>16.9</td>\n",
       "      <td>2010-01-05 16:52:16 UTC</td>\n",
       "      <td>-74.016048</td>\n",
       "      <td>40.711303</td>\n",
       "      <td>-73.979268</td>\n",
       "      <td>40.782004</td>\n",
       "      <td>1</td>\n",
       "    </tr>\n",
       "    <tr>\n",
       "      <th>2</th>\n",
       "      <td>35:00.0</td>\n",
       "      <td>5.7</td>\n",
       "      <td>2011-08-18 00:35:00 UTC</td>\n",
       "      <td>-73.982738</td>\n",
       "      <td>40.761270</td>\n",
       "      <td>-73.991242</td>\n",
       "      <td>40.750562</td>\n",
       "      <td>2</td>\n",
       "    </tr>\n",
       "    <tr>\n",
       "      <th>3</th>\n",
       "      <td>30:42.0</td>\n",
       "      <td>7.7</td>\n",
       "      <td>2012-04-21 04:30:42 UTC</td>\n",
       "      <td>-73.987130</td>\n",
       "      <td>40.733143</td>\n",
       "      <td>-73.991567</td>\n",
       "      <td>40.758092</td>\n",
       "      <td>1</td>\n",
       "    </tr>\n",
       "    <tr>\n",
       "      <th>4</th>\n",
       "      <td>51:00.0</td>\n",
       "      <td>5.3</td>\n",
       "      <td>2010-03-09 07:51:00 UTC</td>\n",
       "      <td>-73.968095</td>\n",
       "      <td>40.768008</td>\n",
       "      <td>-73.956655</td>\n",
       "      <td>40.783762</td>\n",
       "      <td>1</td>\n",
       "    </tr>\n",
       "  </tbody>\n",
       "</table>\n",
       "</div>"
      ],
      "text/plain": [
       "  unique_id  amount      date_time_of_pickup  longitude_of_pickup  \\\n",
       "0   26:21.0     4.5  2009-06-15 17:26:21 UTC           -73.844311   \n",
       "1   52:16.0    16.9  2010-01-05 16:52:16 UTC           -74.016048   \n",
       "2   35:00.0     5.7  2011-08-18 00:35:00 UTC           -73.982738   \n",
       "3   30:42.0     7.7  2012-04-21 04:30:42 UTC           -73.987130   \n",
       "4   51:00.0     5.3  2010-03-09 07:51:00 UTC           -73.968095   \n",
       "\n",
       "   latitude_of_pickup  longitude_of_dropoff  latitude_of_dropoff  \\\n",
       "0           40.721319            -73.841610            40.712278   \n",
       "1           40.711303            -73.979268            40.782004   \n",
       "2           40.761270            -73.991242            40.750562   \n",
       "3           40.733143            -73.991567            40.758092   \n",
       "4           40.768008            -73.956655            40.783762   \n",
       "\n",
       "   no_of_passenger  \n",
       "0                1  \n",
       "1                1  \n",
       "2                2  \n",
       "3                1  \n",
       "4                1  "
      ]
     },
     "execution_count": 7,
     "metadata": {},
     "output_type": "execute_result"
    }
   ],
   "source": [
    "tf.head()"
   ]
  },
  {
   "cell_type": "code",
   "execution_count": 8,
   "id": "abdc4250",
   "metadata": {},
   "outputs": [
    {
     "data": {
      "text/html": [
       "<div>\n",
       "<style scoped>\n",
       "    .dataframe tbody tr th:only-of-type {\n",
       "        vertical-align: middle;\n",
       "    }\n",
       "\n",
       "    .dataframe tbody tr th {\n",
       "        vertical-align: top;\n",
       "    }\n",
       "\n",
       "    .dataframe thead th {\n",
       "        text-align: right;\n",
       "    }\n",
       "</style>\n",
       "<table border=\"1\" class=\"dataframe\">\n",
       "  <thead>\n",
       "    <tr style=\"text-align: right;\">\n",
       "      <th></th>\n",
       "      <th>amount</th>\n",
       "      <th>longitude_of_pickup</th>\n",
       "      <th>latitude_of_pickup</th>\n",
       "      <th>longitude_of_dropoff</th>\n",
       "      <th>latitude_of_dropoff</th>\n",
       "      <th>no_of_passenger</th>\n",
       "    </tr>\n",
       "  </thead>\n",
       "  <tbody>\n",
       "    <tr>\n",
       "      <th>count</th>\n",
       "      <td>50000.000000</td>\n",
       "      <td>50000.000000</td>\n",
       "      <td>50000.000000</td>\n",
       "      <td>50000.000000</td>\n",
       "      <td>50000.000000</td>\n",
       "      <td>50000.000000</td>\n",
       "    </tr>\n",
       "    <tr>\n",
       "      <th>mean</th>\n",
       "      <td>11.364171</td>\n",
       "      <td>-72.509756</td>\n",
       "      <td>39.933759</td>\n",
       "      <td>-72.504616</td>\n",
       "      <td>39.926251</td>\n",
       "      <td>1.667840</td>\n",
       "    </tr>\n",
       "    <tr>\n",
       "      <th>std</th>\n",
       "      <td>9.685557</td>\n",
       "      <td>10.393860</td>\n",
       "      <td>6.224857</td>\n",
       "      <td>10.407570</td>\n",
       "      <td>6.014737</td>\n",
       "      <td>1.289195</td>\n",
       "    </tr>\n",
       "    <tr>\n",
       "      <th>min</th>\n",
       "      <td>-5.000000</td>\n",
       "      <td>-75.423848</td>\n",
       "      <td>-74.006893</td>\n",
       "      <td>-84.654241</td>\n",
       "      <td>-74.006377</td>\n",
       "      <td>0.000000</td>\n",
       "    </tr>\n",
       "    <tr>\n",
       "      <th>25%</th>\n",
       "      <td>6.000000</td>\n",
       "      <td>-73.992062</td>\n",
       "      <td>40.734880</td>\n",
       "      <td>-73.991152</td>\n",
       "      <td>40.734372</td>\n",
       "      <td>1.000000</td>\n",
       "    </tr>\n",
       "    <tr>\n",
       "      <th>50%</th>\n",
       "      <td>8.500000</td>\n",
       "      <td>-73.981840</td>\n",
       "      <td>40.752678</td>\n",
       "      <td>-73.980082</td>\n",
       "      <td>40.753372</td>\n",
       "      <td>1.000000</td>\n",
       "    </tr>\n",
       "    <tr>\n",
       "      <th>75%</th>\n",
       "      <td>12.500000</td>\n",
       "      <td>-73.967148</td>\n",
       "      <td>40.767360</td>\n",
       "      <td>-73.963584</td>\n",
       "      <td>40.768167</td>\n",
       "      <td>2.000000</td>\n",
       "    </tr>\n",
       "    <tr>\n",
       "      <th>max</th>\n",
       "      <td>200.000000</td>\n",
       "      <td>40.783472</td>\n",
       "      <td>401.083332</td>\n",
       "      <td>40.851027</td>\n",
       "      <td>43.415190</td>\n",
       "      <td>6.000000</td>\n",
       "    </tr>\n",
       "  </tbody>\n",
       "</table>\n",
       "</div>"
      ],
      "text/plain": [
       "             amount  longitude_of_pickup  latitude_of_pickup  \\\n",
       "count  50000.000000         50000.000000        50000.000000   \n",
       "mean      11.364171           -72.509756           39.933759   \n",
       "std        9.685557            10.393860            6.224857   \n",
       "min       -5.000000           -75.423848          -74.006893   \n",
       "25%        6.000000           -73.992062           40.734880   \n",
       "50%        8.500000           -73.981840           40.752678   \n",
       "75%       12.500000           -73.967148           40.767360   \n",
       "max      200.000000            40.783472          401.083332   \n",
       "\n",
       "       longitude_of_dropoff  latitude_of_dropoff  no_of_passenger  \n",
       "count          50000.000000         50000.000000     50000.000000  \n",
       "mean             -72.504616            39.926251         1.667840  \n",
       "std               10.407570             6.014737         1.289195  \n",
       "min              -84.654241           -74.006377         0.000000  \n",
       "25%              -73.991152            40.734372         1.000000  \n",
       "50%              -73.980082            40.753372         1.000000  \n",
       "75%              -73.963584            40.768167         2.000000  \n",
       "max               40.851027            43.415190         6.000000  "
      ]
     },
     "execution_count": 8,
     "metadata": {},
     "output_type": "execute_result"
    }
   ],
   "source": [
    "tf.describe()"
   ]
  },
  {
   "cell_type": "code",
   "execution_count": 9,
   "id": "3a4fd2b7",
   "metadata": {},
   "outputs": [],
   "source": [
    "#Latitude or Longitude cannot be more than 180"
   ]
  },
  {
   "cell_type": "code",
   "execution_count": 10,
   "id": "c8c31e8a",
   "metadata": {},
   "outputs": [],
   "source": [
    "tf = tf[tf.latitude_of_pickup <= 180]"
   ]
  },
  {
   "cell_type": "code",
   "execution_count": 11,
   "id": "1ae39065",
   "metadata": {},
   "outputs": [],
   "source": [
    "def distance_calc(plong,plat,dlong,dlat):\n",
    "    dist = round(hs.haversine((plong,plat),(dlong,dlat)),2)\n",
    "    return dist"
   ]
  },
  {
   "cell_type": "code",
   "execution_count": 12,
   "id": "a8c762f3",
   "metadata": {},
   "outputs": [],
   "source": [
    "tf['Distance'] = tf.apply(lambda x: distance_calc(x.longitude_of_pickup,x.latitude_of_pickup,x.longitude_of_dropoff,x.latitude_of_dropoff), axis=1)"
   ]
  },
  {
   "cell_type": "code",
   "execution_count": 13,
   "id": "87002640",
   "metadata": {},
   "outputs": [
    {
     "data": {
      "text/html": [
       "<div>\n",
       "<style scoped>\n",
       "    .dataframe tbody tr th:only-of-type {\n",
       "        vertical-align: middle;\n",
       "    }\n",
       "\n",
       "    .dataframe tbody tr th {\n",
       "        vertical-align: top;\n",
       "    }\n",
       "\n",
       "    .dataframe thead th {\n",
       "        text-align: right;\n",
       "    }\n",
       "</style>\n",
       "<table border=\"1\" class=\"dataframe\">\n",
       "  <thead>\n",
       "    <tr style=\"text-align: right;\">\n",
       "      <th></th>\n",
       "      <th>unique_id</th>\n",
       "      <th>amount</th>\n",
       "      <th>date_time_of_pickup</th>\n",
       "      <th>longitude_of_pickup</th>\n",
       "      <th>latitude_of_pickup</th>\n",
       "      <th>longitude_of_dropoff</th>\n",
       "      <th>latitude_of_dropoff</th>\n",
       "      <th>no_of_passenger</th>\n",
       "      <th>Distance</th>\n",
       "    </tr>\n",
       "  </thead>\n",
       "  <tbody>\n",
       "    <tr>\n",
       "      <th>0</th>\n",
       "      <td>26:21.0</td>\n",
       "      <td>4.5</td>\n",
       "      <td>2009-06-15 17:26:21 UTC</td>\n",
       "      <td>-73.844311</td>\n",
       "      <td>40.721319</td>\n",
       "      <td>-73.841610</td>\n",
       "      <td>40.712278</td>\n",
       "      <td>1</td>\n",
       "      <td>0.41</td>\n",
       "    </tr>\n",
       "    <tr>\n",
       "      <th>1</th>\n",
       "      <td>52:16.0</td>\n",
       "      <td>16.9</td>\n",
       "      <td>2010-01-05 16:52:16 UTC</td>\n",
       "      <td>-74.016048</td>\n",
       "      <td>40.711303</td>\n",
       "      <td>-73.979268</td>\n",
       "      <td>40.782004</td>\n",
       "      <td>1</td>\n",
       "      <td>4.63</td>\n",
       "    </tr>\n",
       "    <tr>\n",
       "      <th>2</th>\n",
       "      <td>35:00.0</td>\n",
       "      <td>5.7</td>\n",
       "      <td>2011-08-18 00:35:00 UTC</td>\n",
       "      <td>-73.982738</td>\n",
       "      <td>40.761270</td>\n",
       "      <td>-73.991242</td>\n",
       "      <td>40.750562</td>\n",
       "      <td>2</td>\n",
       "      <td>1.00</td>\n",
       "    </tr>\n",
       "    <tr>\n",
       "      <th>3</th>\n",
       "      <td>30:42.0</td>\n",
       "      <td>7.7</td>\n",
       "      <td>2012-04-21 04:30:42 UTC</td>\n",
       "      <td>-73.987130</td>\n",
       "      <td>40.733143</td>\n",
       "      <td>-73.991567</td>\n",
       "      <td>40.758092</td>\n",
       "      <td>1</td>\n",
       "      <td>0.91</td>\n",
       "    </tr>\n",
       "    <tr>\n",
       "      <th>4</th>\n",
       "      <td>51:00.0</td>\n",
       "      <td>5.3</td>\n",
       "      <td>2010-03-09 07:51:00 UTC</td>\n",
       "      <td>-73.968095</td>\n",
       "      <td>40.768008</td>\n",
       "      <td>-73.956655</td>\n",
       "      <td>40.783762</td>\n",
       "      <td>1</td>\n",
       "      <td>1.36</td>\n",
       "    </tr>\n",
       "    <tr>\n",
       "      <th>...</th>\n",
       "      <td>...</td>\n",
       "      <td>...</td>\n",
       "      <td>...</td>\n",
       "      <td>...</td>\n",
       "      <td>...</td>\n",
       "      <td>...</td>\n",
       "      <td>...</td>\n",
       "      <td>...</td>\n",
       "      <td>...</td>\n",
       "    </tr>\n",
       "    <tr>\n",
       "      <th>49995</th>\n",
       "      <td>25:15.0</td>\n",
       "      <td>15.0</td>\n",
       "      <td>2013-06-12 23:25:15 UTC</td>\n",
       "      <td>-73.999973</td>\n",
       "      <td>40.748531</td>\n",
       "      <td>-74.016899</td>\n",
       "      <td>40.705993</td>\n",
       "      <td>1</td>\n",
       "      <td>2.29</td>\n",
       "    </tr>\n",
       "    <tr>\n",
       "      <th>49996</th>\n",
       "      <td>19:18.0</td>\n",
       "      <td>7.5</td>\n",
       "      <td>2015-06-22 17:19:18 UTC</td>\n",
       "      <td>-73.984756</td>\n",
       "      <td>40.768211</td>\n",
       "      <td>-73.987366</td>\n",
       "      <td>40.760597</td>\n",
       "      <td>1</td>\n",
       "      <td>0.37</td>\n",
       "    </tr>\n",
       "    <tr>\n",
       "      <th>49997</th>\n",
       "      <td>53:00.0</td>\n",
       "      <td>6.9</td>\n",
       "      <td>2011-01-30 04:53:00 UTC</td>\n",
       "      <td>-74.002698</td>\n",
       "      <td>40.739428</td>\n",
       "      <td>-73.998108</td>\n",
       "      <td>40.759483</td>\n",
       "      <td>1</td>\n",
       "      <td>0.80</td>\n",
       "    </tr>\n",
       "    <tr>\n",
       "      <th>49998</th>\n",
       "      <td>09:00.0</td>\n",
       "      <td>4.5</td>\n",
       "      <td>2012-11-06 07:09:00 UTC</td>\n",
       "      <td>-73.946062</td>\n",
       "      <td>40.777567</td>\n",
       "      <td>-73.953450</td>\n",
       "      <td>40.779687</td>\n",
       "      <td>2</td>\n",
       "      <td>0.82</td>\n",
       "    </tr>\n",
       "    <tr>\n",
       "      <th>49999</th>\n",
       "      <td>13:14.0</td>\n",
       "      <td>10.9</td>\n",
       "      <td>2010-01-13 08:13:14 UTC</td>\n",
       "      <td>-73.932603</td>\n",
       "      <td>40.763805</td>\n",
       "      <td>-73.932603</td>\n",
       "      <td>40.763805</td>\n",
       "      <td>1</td>\n",
       "      <td>0.00</td>\n",
       "    </tr>\n",
       "  </tbody>\n",
       "</table>\n",
       "<p>49999 rows × 9 columns</p>\n",
       "</div>"
      ],
      "text/plain": [
       "      unique_id  amount      date_time_of_pickup  longitude_of_pickup  \\\n",
       "0       26:21.0     4.5  2009-06-15 17:26:21 UTC           -73.844311   \n",
       "1       52:16.0    16.9  2010-01-05 16:52:16 UTC           -74.016048   \n",
       "2       35:00.0     5.7  2011-08-18 00:35:00 UTC           -73.982738   \n",
       "3       30:42.0     7.7  2012-04-21 04:30:42 UTC           -73.987130   \n",
       "4       51:00.0     5.3  2010-03-09 07:51:00 UTC           -73.968095   \n",
       "...         ...     ...                      ...                  ...   \n",
       "49995   25:15.0    15.0  2013-06-12 23:25:15 UTC           -73.999973   \n",
       "49996   19:18.0     7.5  2015-06-22 17:19:18 UTC           -73.984756   \n",
       "49997   53:00.0     6.9  2011-01-30 04:53:00 UTC           -74.002698   \n",
       "49998   09:00.0     4.5  2012-11-06 07:09:00 UTC           -73.946062   \n",
       "49999   13:14.0    10.9  2010-01-13 08:13:14 UTC           -73.932603   \n",
       "\n",
       "       latitude_of_pickup  longitude_of_dropoff  latitude_of_dropoff  \\\n",
       "0               40.721319            -73.841610            40.712278   \n",
       "1               40.711303            -73.979268            40.782004   \n",
       "2               40.761270            -73.991242            40.750562   \n",
       "3               40.733143            -73.991567            40.758092   \n",
       "4               40.768008            -73.956655            40.783762   \n",
       "...                   ...                   ...                  ...   \n",
       "49995           40.748531            -74.016899            40.705993   \n",
       "49996           40.768211            -73.987366            40.760597   \n",
       "49997           40.739428            -73.998108            40.759483   \n",
       "49998           40.777567            -73.953450            40.779687   \n",
       "49999           40.763805            -73.932603            40.763805   \n",
       "\n",
       "       no_of_passenger  Distance  \n",
       "0                    1      0.41  \n",
       "1                    1      4.63  \n",
       "2                    2      1.00  \n",
       "3                    1      0.91  \n",
       "4                    1      1.36  \n",
       "...                ...       ...  \n",
       "49995                1      2.29  \n",
       "49996                1      0.37  \n",
       "49997                1      0.80  \n",
       "49998                2      0.82  \n",
       "49999                1      0.00  \n",
       "\n",
       "[49999 rows x 9 columns]"
      ]
     },
     "execution_count": 13,
     "metadata": {},
     "output_type": "execute_result"
    }
   ],
   "source": [
    "tf"
   ]
  },
  {
   "cell_type": "markdown",
   "id": "e95dce0f",
   "metadata": {},
   "source": [
    "# Amount"
   ]
  },
  {
   "cell_type": "code",
   "execution_count": 14,
   "id": "93820856",
   "metadata": {},
   "outputs": [
    {
     "data": {
      "text/plain": [
       "Text(0.5, 1.0, 'Histogram of Taxi Fare amount')"
      ]
     },
     "execution_count": 14,
     "metadata": {},
     "output_type": "execute_result"
    },
    {
     "data": {
      "image/png": "[encoded data removed]",
      "text/plain": [
       "<Figure size 432x288 with 1 Axes>"
      ]
     },
     "metadata": {
      "needs_background": "light"
     },
     "output_type": "display_data"
    }
   ],
   "source": [
    "plt.hist(tf.amount, bins=10)\n",
    "plt.xlabel(\"Fare Amount\")\n",
    "plt.ylabel('counts')\n",
    "plt.title(\"Histogram of Taxi Fare amount\")"
   ]
  },
  {
   "cell_type": "code",
   "execution_count": 15,
   "id": "67e7c093",
   "metadata": {},
   "outputs": [
    {
     "data": {
      "text/plain": [
       "<AxesSubplot:>"
      ]
     },
     "execution_count": 15,
     "metadata": {},
     "output_type": "execute_result"
    },
    {
     "data": {
      "image/png": "[encoded data removed]",
      "text/plain": [
       "<Figure size 432x288 with 1 Axes>"
      ]
     },
     "metadata": {
      "needs_background": "light"
     },
     "output_type": "display_data"
    }
   ],
   "source": [
    "props2 = dict(boxes = 'red', whiskers = 'green', medians = 'black', caps = 'red')\n",
    "tf.amount.plot.box(color=props2, patch_artist = True, vert = False)"
   ]
  },
  {
   "cell_type": "code",
   "execution_count": 16,
   "id": "98a9846e",
   "metadata": {},
   "outputs": [],
   "source": [
    "from scipy import stats \n",
    "iqr = stats.iqr(tf.amount)"
   ]
  },
  {
   "cell_type": "code",
   "execution_count": 17,
   "id": "de26cbed",
   "metadata": {},
   "outputs": [],
   "source": [
    "low_lim = tf.amount.quantile(0.25)-1.5*iqr"
   ]
  },
  {
   "cell_type": "code",
   "execution_count": 18,
   "id": "fefce9cc",
   "metadata": {},
   "outputs": [
    {
     "data": {
      "text/plain": [
       "1"
      ]
     },
     "execution_count": 18,
     "metadata": {},
     "output_type": "execute_result"
    }
   ],
   "source": [
    "len(tf.amount[tf.amount < low_lim])"
   ]
  },
  {
   "cell_type": "code",
   "execution_count": 19,
   "id": "022d7983",
   "metadata": {},
   "outputs": [],
   "source": [
    "up_lim = tf.amount.quantile(0.75)+1.5*iqr"
   ]
  },
  {
   "cell_type": "code",
   "execution_count": 20,
   "id": "8b17be35",
   "metadata": {},
   "outputs": [
    {
     "data": {
      "text/plain": [
       "4364"
      ]
     },
     "execution_count": 20,
     "metadata": {},
     "output_type": "execute_result"
    }
   ],
   "source": [
    "len(tf.amount[tf.amount > up_lim])"
   ]
  },
  {
   "cell_type": "code",
   "execution_count": 21,
   "id": "21e1d444",
   "metadata": {},
   "outputs": [
    {
     "data": {
      "text/plain": [
       "6.50     2468\n",
       "4.50     2104\n",
       "8.50     1929\n",
       "6.10     1441\n",
       "5.30     1440\n",
       "         ... \n",
       "26.60       1\n",
       "25.39       1\n",
       "55.83       1\n",
       "30.04       1\n",
       "27.05       1\n",
       "Name: amount, Length: 703, dtype: int64"
      ]
     },
     "execution_count": 21,
     "metadata": {},
     "output_type": "execute_result"
    }
   ],
   "source": [
    "tf.amount.value_counts()"
   ]
  },
  {
   "cell_type": "code",
   "execution_count": 22,
   "id": "eb85e019",
   "metadata": {},
   "outputs": [
    {
     "data": {
      "text/plain": [
       "6"
      ]
     },
     "execution_count": 22,
     "metadata": {},
     "output_type": "execute_result"
    }
   ],
   "source": [
    "len(tf.amount[tf.amount <0]) "
   ]
  },
  {
   "cell_type": "code",
   "execution_count": 23,
   "id": "cb1eaf88",
   "metadata": {},
   "outputs": [
    {
     "data": {
      "text/plain": [
       "5"
      ]
     },
     "execution_count": 23,
     "metadata": {},
     "output_type": "execute_result"
    }
   ],
   "source": [
    "len(tf.amount[tf.amount >150])"
   ]
  },
  {
   "cell_type": "code",
   "execution_count": 24,
   "id": "119658c6",
   "metadata": {},
   "outputs": [
    {
     "data": {
      "text/plain": [
       "16"
      ]
     },
     "execution_count": 24,
     "metadata": {},
     "output_type": "execute_result"
    }
   ],
   "source": [
    "len(tf.amount[tf.amount >100]) "
   ]
  },
  {
   "cell_type": "code",
   "execution_count": 25,
   "id": "e542a685",
   "metadata": {},
   "outputs": [
    {
     "data": {
      "text/plain": [
       "636"
      ]
     },
     "execution_count": 25,
     "metadata": {},
     "output_type": "execute_result"
    }
   ],
   "source": [
    "len(tf.amount[tf.amount >50])"
   ]
  },
  {
   "cell_type": "markdown",
   "id": "f1ce90d6",
   "metadata": {},
   "source": [
    "# Date Time of Pick-up"
   ]
  },
  {
   "cell_type": "code",
   "execution_count": 26,
   "id": "2e021868",
   "metadata": {},
   "outputs": [],
   "source": [
    "tf.date_time_of_pickup = pd.to_datetime(tf.date_time_of_pickup)"
   ]
  },
  {
   "cell_type": "code",
   "execution_count": 27,
   "id": "a9a32ccf",
   "metadata": {},
   "outputs": [
    {
     "name": "stdout",
     "output_type": "stream",
     "text": [
      "<class 'pandas.core.frame.DataFrame'>\n",
      "Int64Index: 49999 entries, 0 to 49999\n",
      "Data columns (total 9 columns):\n",
      " #   Column                Non-Null Count  Dtype              \n",
      "---  ------                --------------  -----              \n",
      " 0   unique_id             49999 non-null  object             \n",
      " 1   amount                49999 non-null  float64            \n",
      " 2   date_time_of_pickup   49999 non-null  datetime64[ns, UTC]\n",
      " 3   longitude_of_pickup   49999 non-null  float64            \n",
      " 4   latitude_of_pickup    49999 non-null  float64            \n",
      " 5   longitude_of_dropoff  49999 non-null  float64            \n",
      " 6   latitude_of_dropoff   49999 non-null  float64            \n",
      " 7   no_of_passenger       49999 non-null  int64              \n",
      " 8   Distance              49999 non-null  float64            \n",
      "dtypes: datetime64[ns, UTC](1), float64(6), int64(1), object(1)\n",
      "memory usage: 3.8+ MB\n"
     ]
    }
   ],
   "source": [
    "tf.info()"
   ]
  },
  {
   "cell_type": "code",
   "execution_count": 28,
   "id": "512864e2",
   "metadata": {},
   "outputs": [],
   "source": [
    "tf['year'] = tf[\"date_time_of_pickup\"].dt.year"
   ]
  },
  {
   "cell_type": "code",
   "execution_count": 29,
   "id": "b3fc7e13",
   "metadata": {},
   "outputs": [],
   "source": [
    "tf['month'] = tf[\"date_time_of_pickup\"].dt.month_name()"
   ]
  },
  {
   "cell_type": "code",
   "execution_count": 30,
   "id": "6d2f1ab5",
   "metadata": {},
   "outputs": [],
   "source": [
    "tf['day'] = tf[\"date_time_of_pickup\"].dt.day_name()"
   ]
  },
  {
   "cell_type": "code",
   "execution_count": 31,
   "id": "f6350781",
   "metadata": {},
   "outputs": [],
   "source": [
    "tf['hour'] = tf[\"date_time_of_pickup\"].dt.hour"
   ]
  },
  {
   "cell_type": "code",
   "execution_count": 32,
   "id": "ab7e38ce",
   "metadata": {},
   "outputs": [
    {
     "data": {
      "text/plain": [
       "Text(0.5, 1.0, 'Yearwise counting')"
      ]
     },
     "execution_count": 32,
     "metadata": {},
     "output_type": "execute_result"
    },
    {
     "data": {
      "image/png": "[encoded data removed]",
      "text/plain": [
       "<Figure size 432x288 with 1 Axes>"
      ]
     },
     "metadata": {
      "needs_background": "light"
     },
     "output_type": "display_data"
    }
   ],
   "source": [
    "sns.countplot(x='year', data=tf)\n",
    "plt.xlabel(\"Year\")\n",
    "plt.ylabel('counts')\n",
    "plt.title(\"Yearwise counting\")"
   ]
  },
  {
   "cell_type": "code",
   "execution_count": 33,
   "id": "8f22d37b",
   "metadata": {},
   "outputs": [
    {
     "data": {
      "text/plain": [
       "2012    8005\n",
       "2011    7831\n",
       "2013    7819\n",
       "2009    7716\n",
       "2010    7646\n",
       "2014    7530\n",
       "2015    3452\n",
       "Name: year, dtype: int64"
      ]
     },
     "execution_count": 33,
     "metadata": {},
     "output_type": "execute_result"
    }
   ],
   "source": [
    "tf.year.value_counts()"
   ]
  },
  {
   "cell_type": "code",
   "execution_count": 34,
   "id": "7b47854c",
   "metadata": {},
   "outputs": [
    {
     "data": {
      "text/plain": [
       "<AxesSubplot:>"
      ]
     },
     "execution_count": 34,
     "metadata": {},
     "output_type": "execute_result"
    },
    {
     "data": {
      "image/png": "[encoded data removed]",
      "text/plain": [
       "<Figure size 432x288 with 1 Axes>"
      ]
     },
     "metadata": {
      "needs_background": "light"
     },
     "output_type": "display_data"
    }
   ],
   "source": [
    "props2 = dict(boxes = 'red', whiskers = 'green', medians = 'black', caps = 'red')\n",
    "tf.year.plot.box(color=props2, patch_artist = True, vert = False)"
   ]
  },
  {
   "cell_type": "code",
   "execution_count": 35,
   "id": "7dc40f3a",
   "metadata": {},
   "outputs": [
    {
     "data": {
      "text/html": [
       "<div>\n",
       "<style scoped>\n",
       "    .dataframe tbody tr th:only-of-type {\n",
       "        vertical-align: middle;\n",
       "    }\n",
       "\n",
       "    .dataframe tbody tr th {\n",
       "        vertical-align: top;\n",
       "    }\n",
       "\n",
       "    .dataframe thead th {\n",
       "        text-align: right;\n",
       "    }\n",
       "</style>\n",
       "<table border=\"1\" class=\"dataframe\">\n",
       "  <thead>\n",
       "    <tr style=\"text-align: right;\">\n",
       "      <th></th>\n",
       "      <th>count</th>\n",
       "      <th>mean</th>\n",
       "      <th>std</th>\n",
       "      <th>min</th>\n",
       "      <th>25%</th>\n",
       "      <th>50%</th>\n",
       "      <th>75%</th>\n",
       "      <th>max</th>\n",
       "    </tr>\n",
       "    <tr>\n",
       "      <th>year</th>\n",
       "      <th></th>\n",
       "      <th></th>\n",
       "      <th></th>\n",
       "      <th></th>\n",
       "      <th></th>\n",
       "      <th></th>\n",
       "      <th></th>\n",
       "      <th></th>\n",
       "    </tr>\n",
       "  </thead>\n",
       "  <tbody>\n",
       "    <tr>\n",
       "      <th>2009</th>\n",
       "      <td>7716.0</td>\n",
       "      <td>10.049168</td>\n",
       "      <td>8.447096</td>\n",
       "      <td>2.5</td>\n",
       "      <td>5.7</td>\n",
       "      <td>7.7</td>\n",
       "      <td>11.3</td>\n",
       "      <td>165.00</td>\n",
       "    </tr>\n",
       "    <tr>\n",
       "      <th>2010</th>\n",
       "      <td>7646.0</td>\n",
       "      <td>10.137180</td>\n",
       "      <td>8.406004</td>\n",
       "      <td>-2.9</td>\n",
       "      <td>5.7</td>\n",
       "      <td>7.7</td>\n",
       "      <td>11.3</td>\n",
       "      <td>143.00</td>\n",
       "    </tr>\n",
       "    <tr>\n",
       "      <th>2011</th>\n",
       "      <td>7831.0</td>\n",
       "      <td>10.466846</td>\n",
       "      <td>8.467185</td>\n",
       "      <td>2.5</td>\n",
       "      <td>5.7</td>\n",
       "      <td>7.7</td>\n",
       "      <td>11.7</td>\n",
       "      <td>96.00</td>\n",
       "    </tr>\n",
       "    <tr>\n",
       "      <th>2012</th>\n",
       "      <td>8005.0</td>\n",
       "      <td>11.228863</td>\n",
       "      <td>9.667937</td>\n",
       "      <td>2.5</td>\n",
       "      <td>6.0</td>\n",
       "      <td>8.5</td>\n",
       "      <td>12.5</td>\n",
       "      <td>200.00</td>\n",
       "    </tr>\n",
       "    <tr>\n",
       "      <th>2013</th>\n",
       "      <td>7819.0</td>\n",
       "      <td>12.439474</td>\n",
       "      <td>10.428842</td>\n",
       "      <td>-3.0</td>\n",
       "      <td>6.5</td>\n",
       "      <td>9.5</td>\n",
       "      <td>14.0</td>\n",
       "      <td>180.00</td>\n",
       "    </tr>\n",
       "    <tr>\n",
       "      <th>2014</th>\n",
       "      <td>7530.0</td>\n",
       "      <td>13.139649</td>\n",
       "      <td>11.311478</td>\n",
       "      <td>2.5</td>\n",
       "      <td>6.5</td>\n",
       "      <td>9.5</td>\n",
       "      <td>15.0</td>\n",
       "      <td>165.00</td>\n",
       "    </tr>\n",
       "    <tr>\n",
       "      <th>2015</th>\n",
       "      <td>3452.0</td>\n",
       "      <td>13.064392</td>\n",
       "      <td>10.799374</td>\n",
       "      <td>-5.0</td>\n",
       "      <td>6.5</td>\n",
       "      <td>9.5</td>\n",
       "      <td>15.0</td>\n",
       "      <td>96.25</td>\n",
       "    </tr>\n",
       "  </tbody>\n",
       "</table>\n",
       "</div>"
      ],
      "text/plain": [
       "       count       mean        std  min  25%  50%   75%     max\n",
       "year                                                           \n",
       "2009  7716.0  10.049168   8.447096  2.5  5.7  7.7  11.3  165.00\n",
       "2010  7646.0  10.137180   8.406004 -2.9  5.7  7.7  11.3  143.00\n",
       "2011  7831.0  10.466846   8.467185  2.5  5.7  7.7  11.7   96.00\n",
       "2012  8005.0  11.228863   9.667937  2.5  6.0  8.5  12.5  200.00\n",
       "2013  7819.0  12.439474  10.428842 -3.0  6.5  9.5  14.0  180.00\n",
       "2014  7530.0  13.139649  11.311478  2.5  6.5  9.5  15.0  165.00\n",
       "2015  3452.0  13.064392  10.799374 -5.0  6.5  9.5  15.0   96.25"
      ]
     },
     "execution_count": 35,
     "metadata": {},
     "output_type": "execute_result"
    }
   ],
   "source": [
    "tf.groupby('year')['amount'].describe()"
   ]
  },
  {
   "cell_type": "code",
   "execution_count": 36,
   "id": "08f50d19",
   "metadata": {},
   "outputs": [
    {
     "data": {
      "text/plain": [
       "<AxesSubplot:xlabel='year', ylabel='amount'>"
      ]
     },
     "execution_count": 36,
     "metadata": {},
     "output_type": "execute_result"
    },
    {
     "data": {
      "image/png": "[encoded data removed]",
      "text/plain": [
       "<Figure size 432x288 with 1 Axes>"
      ]
     },
     "metadata": {
      "needs_background": "light"
     },
     "output_type": "display_data"
    }
   ],
   "source": [
    "sns.lineplot(y='amount', x='year', data=tf)"
   ]
  },
  {
   "cell_type": "code",
   "execution_count": 37,
   "id": "cf947190",
   "metadata": {},
   "outputs": [
    {
     "data": {
      "text/plain": [
       "[<matplotlib.lines.Line2D at 0x214fd8b1310>]"
      ]
     },
     "execution_count": 37,
     "metadata": {},
     "output_type": "execute_result"
    },
    {
     "data": {
      "image/png": "[encoded data removed]",
      "text/plain": [
       "<Figure size 432x288 with 1 Axes>"
      ]
     },
     "metadata": {
      "needs_background": "light"
     },
     "output_type": "display_data"
    }
   ],
   "source": [
    "plt.plot(tf.groupby('year')['amount'].count())"
   ]
  },
  {
   "cell_type": "code",
   "execution_count": 38,
   "id": "89574a56",
   "metadata": {},
   "outputs": [
    {
     "data": {
      "text/plain": [
       "[<matplotlib.lines.Line2D at 0x214fd9154c0>]"
      ]
     },
     "execution_count": 38,
     "metadata": {},
     "output_type": "execute_result"
    },
    {
     "data": {
      "image/png": "[encoded data removed]",
      "text/plain": [
       "<Figure size 432x288 with 1 Axes>"
      ]
     },
     "metadata": {
      "needs_background": "light"
     },
     "output_type": "display_data"
    }
   ],
   "source": [
    "plt.plot(tf.groupby('year')['amount'].mean()) "
   ]
  },
  {
   "cell_type": "code",
   "execution_count": 39,
   "id": "9a30220f",
   "metadata": {
    "scrolled": true
   },
   "outputs": [
    {
     "data": {
      "text/plain": [
       "(array([ 0,  1,  2,  3,  4,  5,  6,  7,  8,  9, 10, 11]),\n",
       " [Text(0, 0, 'June'),\n",
       "  Text(1, 0, 'January'),\n",
       "  Text(2, 0, 'August'),\n",
       "  Text(3, 0, 'April'),\n",
       "  Text(4, 0, 'March'),\n",
       "  Text(5, 0, 'November'),\n",
       "  Text(6, 0, 'December'),\n",
       "  Text(7, 0, 'September'),\n",
       "  Text(8, 0, 'July'),\n",
       "  Text(9, 0, 'February'),\n",
       "  Text(10, 0, 'May'),\n",
       "  Text(11, 0, 'October')])"
      ]
     },
     "execution_count": 39,
     "metadata": {},
     "output_type": "execute_result"
    },
    {
     "data": {
      "image/png": "[encoded data removed]",
      "text/plain": [
       "<Figure size 432x288 with 1 Axes>"
      ]
     },
     "metadata": {
      "needs_background": "light"
     },
     "output_type": "display_data"
    }
   ],
   "source": [
    "sns.countplot(x='month', data=tf)\n",
    "plt.xlabel(\"Fare Amount\")\n",
    "plt.ylabel('counts')\n",
    "plt.title(\"Monthwise counting\")\n",
    "plt.xticks(rotation=90)"
   ]
  },
  {
   "cell_type": "code",
   "execution_count": 40,
   "id": "538acba0",
   "metadata": {},
   "outputs": [
    {
     "data": {
      "text/html": [
       "<div>\n",
       "<style scoped>\n",
       "    .dataframe tbody tr th:only-of-type {\n",
       "        vertical-align: middle;\n",
       "    }\n",
       "\n",
       "    .dataframe tbody tr th {\n",
       "        vertical-align: top;\n",
       "    }\n",
       "\n",
       "    .dataframe thead th {\n",
       "        text-align: right;\n",
       "    }\n",
       "</style>\n",
       "<table border=\"1\" class=\"dataframe\">\n",
       "  <thead>\n",
       "    <tr style=\"text-align: right;\">\n",
       "      <th></th>\n",
       "      <th>count</th>\n",
       "      <th>mean</th>\n",
       "      <th>std</th>\n",
       "      <th>min</th>\n",
       "      <th>25%</th>\n",
       "      <th>50%</th>\n",
       "      <th>75%</th>\n",
       "      <th>max</th>\n",
       "    </tr>\n",
       "    <tr>\n",
       "      <th>month</th>\n",
       "      <th></th>\n",
       "      <th></th>\n",
       "      <th></th>\n",
       "      <th></th>\n",
       "      <th></th>\n",
       "      <th></th>\n",
       "      <th></th>\n",
       "      <th></th>\n",
       "    </tr>\n",
       "  </thead>\n",
       "  <tbody>\n",
       "    <tr>\n",
       "      <th>April</th>\n",
       "      <td>4519.0</td>\n",
       "      <td>11.321361</td>\n",
       "      <td>9.487037</td>\n",
       "      <td>-2.5</td>\n",
       "      <td>6.0</td>\n",
       "      <td>8.5</td>\n",
       "      <td>12.5</td>\n",
       "      <td>93.75</td>\n",
       "    </tr>\n",
       "    <tr>\n",
       "      <th>August</th>\n",
       "      <td>3543.0</td>\n",
       "      <td>11.316616</td>\n",
       "      <td>10.315227</td>\n",
       "      <td>-3.0</td>\n",
       "      <td>6.0</td>\n",
       "      <td>8.5</td>\n",
       "      <td>12.5</td>\n",
       "      <td>165.00</td>\n",
       "    </tr>\n",
       "    <tr>\n",
       "      <th>December</th>\n",
       "      <td>4015.0</td>\n",
       "      <td>11.670543</td>\n",
       "      <td>10.212445</td>\n",
       "      <td>2.5</td>\n",
       "      <td>6.0</td>\n",
       "      <td>8.5</td>\n",
       "      <td>13.0</td>\n",
       "      <td>135.00</td>\n",
       "    </tr>\n",
       "    <tr>\n",
       "      <th>February</th>\n",
       "      <td>4302.0</td>\n",
       "      <td>10.933728</td>\n",
       "      <td>9.510653</td>\n",
       "      <td>0.0</td>\n",
       "      <td>6.0</td>\n",
       "      <td>8.1</td>\n",
       "      <td>12.1</td>\n",
       "      <td>200.00</td>\n",
       "    </tr>\n",
       "    <tr>\n",
       "      <th>January</th>\n",
       "      <td>4546.0</td>\n",
       "      <td>10.700930</td>\n",
       "      <td>9.235979</td>\n",
       "      <td>2.5</td>\n",
       "      <td>5.7</td>\n",
       "      <td>8.0</td>\n",
       "      <td>11.7</td>\n",
       "      <td>180.00</td>\n",
       "    </tr>\n",
       "    <tr>\n",
       "      <th>July</th>\n",
       "      <td>3655.0</td>\n",
       "      <td>10.939256</td>\n",
       "      <td>8.948046</td>\n",
       "      <td>2.5</td>\n",
       "      <td>6.0</td>\n",
       "      <td>8.1</td>\n",
       "      <td>12.1</td>\n",
       "      <td>120.00</td>\n",
       "    </tr>\n",
       "    <tr>\n",
       "      <th>June</th>\n",
       "      <td>4516.0</td>\n",
       "      <td>11.457146</td>\n",
       "      <td>9.267060</td>\n",
       "      <td>2.5</td>\n",
       "      <td>6.1</td>\n",
       "      <td>8.5</td>\n",
       "      <td>13.0</td>\n",
       "      <td>96.25</td>\n",
       "    </tr>\n",
       "    <tr>\n",
       "      <th>March</th>\n",
       "      <td>4671.0</td>\n",
       "      <td>11.085596</td>\n",
       "      <td>9.172258</td>\n",
       "      <td>-5.0</td>\n",
       "      <td>5.8</td>\n",
       "      <td>8.1</td>\n",
       "      <td>12.5</td>\n",
       "      <td>80.50</td>\n",
       "    </tr>\n",
       "    <tr>\n",
       "      <th>May</th>\n",
       "      <td>4612.0</td>\n",
       "      <td>11.868103</td>\n",
       "      <td>10.307439</td>\n",
       "      <td>0.0</td>\n",
       "      <td>6.1</td>\n",
       "      <td>8.9</td>\n",
       "      <td>13.3</td>\n",
       "      <td>160.00</td>\n",
       "    </tr>\n",
       "    <tr>\n",
       "      <th>November</th>\n",
       "      <td>3764.0</td>\n",
       "      <td>11.618807</td>\n",
       "      <td>9.977558</td>\n",
       "      <td>2.5</td>\n",
       "      <td>6.1</td>\n",
       "      <td>8.5</td>\n",
       "      <td>13.0</td>\n",
       "      <td>165.00</td>\n",
       "    </tr>\n",
       "    <tr>\n",
       "      <th>October</th>\n",
       "      <td>4046.0</td>\n",
       "      <td>11.573947</td>\n",
       "      <td>9.732684</td>\n",
       "      <td>2.5</td>\n",
       "      <td>6.0</td>\n",
       "      <td>8.5</td>\n",
       "      <td>12.9</td>\n",
       "      <td>100.00</td>\n",
       "    </tr>\n",
       "    <tr>\n",
       "      <th>September</th>\n",
       "      <td>3810.0</td>\n",
       "      <td>11.970438</td>\n",
       "      <td>10.031989</td>\n",
       "      <td>2.5</td>\n",
       "      <td>6.1</td>\n",
       "      <td>8.9</td>\n",
       "      <td>13.5</td>\n",
       "      <td>96.00</td>\n",
       "    </tr>\n",
       "  </tbody>\n",
       "</table>\n",
       "</div>"
      ],
      "text/plain": [
       "            count       mean        std  min  25%  50%   75%     max\n",
       "month                                                               \n",
       "April      4519.0  11.321361   9.487037 -2.5  6.0  8.5  12.5   93.75\n",
       "August     3543.0  11.316616  10.315227 -3.0  6.0  8.5  12.5  165.00\n",
       "December   4015.0  11.670543  10.212445  2.5  6.0  8.5  13.0  135.00\n",
       "February   4302.0  10.933728   9.510653  0.0  6.0  8.1  12.1  200.00\n",
       "January    4546.0  10.700930   9.235979  2.5  5.7  8.0  11.7  180.00\n",
       "July       3655.0  10.939256   8.948046  2.5  6.0  8.1  12.1  120.00\n",
       "June       4516.0  11.457146   9.267060  2.5  6.1  8.5  13.0   96.25\n",
       "March      4671.0  11.085596   9.172258 -5.0  5.8  8.1  12.5   80.50\n",
       "May        4612.0  11.868103  10.307439  0.0  6.1  8.9  13.3  160.00\n",
       "November   3764.0  11.618807   9.977558  2.5  6.1  8.5  13.0  165.00\n",
       "October    4046.0  11.573947   9.732684  2.5  6.0  8.5  12.9  100.00\n",
       "September  3810.0  11.970438  10.031989  2.5  6.1  8.9  13.5   96.00"
      ]
     },
     "execution_count": 40,
     "metadata": {},
     "output_type": "execute_result"
    }
   ],
   "source": [
    "tf.groupby('month')['amount'].describe()"
   ]
  },
  {
   "cell_type": "code",
   "execution_count": 41,
   "id": "431248be",
   "metadata": {},
   "outputs": [
    {
     "data": {
      "image/png": "[encoded data removed]",
      "text/plain": [
       "<Figure size 432x288 with 1 Axes>"
      ]
     },
     "metadata": {
      "needs_background": "light"
     },
     "output_type": "display_data"
    }
   ],
   "source": [
    "plt.plot(tf.groupby('month')['amount'].count())\n",
    "plt.xticks(rotation=90)\n",
    "plt.title(\"Monthwise counting\")\n",
    "plt.show()"
   ]
  },
  {
   "cell_type": "code",
   "execution_count": 42,
   "id": "ff84e7db",
   "metadata": {},
   "outputs": [
    {
     "data": {
      "image/png": "[encoded data removed]",
      "text/plain": [
       "<Figure size 432x288 with 1 Axes>"
      ]
     },
     "metadata": {
      "needs_background": "light"
     },
     "output_type": "display_data"
    }
   ],
   "source": [
    "plt.plot(tf.groupby('month')['amount'].mean())\n",
    "plt.xticks(rotation=90)\n",
    "plt.title(\"Monthwise Mean Fare\")\n",
    "plt.show()"
   ]
  },
  {
   "cell_type": "code",
   "execution_count": 43,
   "id": "42ac66db",
   "metadata": {},
   "outputs": [],
   "source": [
    "tf.month.replace(['January','February', 'March', 'April', 'May', 'June', 'July', 'August', 'September', 'October', 'November', 'December'],[1,2,3,4,5,6,7,8,9,10,11,12], inplace = True)"
   ]
  },
  {
   "cell_type": "code",
   "execution_count": 44,
   "id": "061a8bf4",
   "metadata": {},
   "outputs": [
    {
     "data": {
      "text/plain": [
       "Text(0.5, 1.0, 'Weekday wise counting')"
      ]
     },
     "execution_count": 44,
     "metadata": {},
     "output_type": "execute_result"
    },
    {
     "data": {
      "image/png": "[encoded data removed]",
      "text/plain": [
       "<Figure size 432x288 with 1 Axes>"
      ]
     },
     "metadata": {
      "needs_background": "light"
     },
     "output_type": "display_data"
    }
   ],
   "source": [
    "sns.countplot(x='day', data=tf)\n",
    "plt.xlabel(\"Weekdays\")\n",
    "plt.ylabel('counts')\n",
    "plt.title(\"Weekday wise counting\")"
   ]
  },
  {
   "cell_type": "code",
   "execution_count": 45,
   "id": "6d7badf0",
   "metadata": {},
   "outputs": [
    {
     "data": {
      "text/html": [
       "<div>\n",
       "<style scoped>\n",
       "    .dataframe tbody tr th:only-of-type {\n",
       "        vertical-align: middle;\n",
       "    }\n",
       "\n",
       "    .dataframe tbody tr th {\n",
       "        vertical-align: top;\n",
       "    }\n",
       "\n",
       "    .dataframe thead th {\n",
       "        text-align: right;\n",
       "    }\n",
       "</style>\n",
       "<table border=\"1\" class=\"dataframe\">\n",
       "  <thead>\n",
       "    <tr style=\"text-align: right;\">\n",
       "      <th></th>\n",
       "      <th>count</th>\n",
       "      <th>mean</th>\n",
       "      <th>std</th>\n",
       "      <th>min</th>\n",
       "      <th>25%</th>\n",
       "      <th>50%</th>\n",
       "      <th>75%</th>\n",
       "      <th>max</th>\n",
       "    </tr>\n",
       "    <tr>\n",
       "      <th>day</th>\n",
       "      <th></th>\n",
       "      <th></th>\n",
       "      <th></th>\n",
       "      <th></th>\n",
       "      <th></th>\n",
       "      <th></th>\n",
       "      <th></th>\n",
       "      <th></th>\n",
       "    </tr>\n",
       "  </thead>\n",
       "  <tbody>\n",
       "    <tr>\n",
       "      <th>Friday</th>\n",
       "      <td>7668.0</td>\n",
       "      <td>11.402240</td>\n",
       "      <td>9.508604</td>\n",
       "      <td>-3.0</td>\n",
       "      <td>6.1</td>\n",
       "      <td>8.5</td>\n",
       "      <td>13.0</td>\n",
       "      <td>165.00</td>\n",
       "    </tr>\n",
       "    <tr>\n",
       "      <th>Monday</th>\n",
       "      <td>6639.0</td>\n",
       "      <td>11.569060</td>\n",
       "      <td>10.536296</td>\n",
       "      <td>-5.0</td>\n",
       "      <td>6.0</td>\n",
       "      <td>8.1</td>\n",
       "      <td>12.5</td>\n",
       "      <td>160.00</td>\n",
       "    </tr>\n",
       "    <tr>\n",
       "      <th>Saturday</th>\n",
       "      <td>7629.0</td>\n",
       "      <td>11.143759</td>\n",
       "      <td>9.201833</td>\n",
       "      <td>2.5</td>\n",
       "      <td>6.0</td>\n",
       "      <td>8.5</td>\n",
       "      <td>12.5</td>\n",
       "      <td>165.00</td>\n",
       "    </tr>\n",
       "    <tr>\n",
       "      <th>Sunday</th>\n",
       "      <td>6518.0</td>\n",
       "      <td>11.520578</td>\n",
       "      <td>9.954766</td>\n",
       "      <td>-2.5</td>\n",
       "      <td>6.0</td>\n",
       "      <td>8.5</td>\n",
       "      <td>13.0</td>\n",
       "      <td>200.00</td>\n",
       "    </tr>\n",
       "    <tr>\n",
       "      <th>Thursday</th>\n",
       "      <td>7406.0</td>\n",
       "      <td>11.668594</td>\n",
       "      <td>9.983516</td>\n",
       "      <td>-2.5</td>\n",
       "      <td>6.0</td>\n",
       "      <td>8.5</td>\n",
       "      <td>13.0</td>\n",
       "      <td>149.00</td>\n",
       "    </tr>\n",
       "    <tr>\n",
       "      <th>Tuesday</th>\n",
       "      <td>6927.0</td>\n",
       "      <td>11.166999</td>\n",
       "      <td>9.282690</td>\n",
       "      <td>-2.9</td>\n",
       "      <td>6.0</td>\n",
       "      <td>8.5</td>\n",
       "      <td>12.5</td>\n",
       "      <td>92.49</td>\n",
       "    </tr>\n",
       "    <tr>\n",
       "      <th>Wednesday</th>\n",
       "      <td>7212.0</td>\n",
       "      <td>11.104773</td>\n",
       "      <td>9.357399</td>\n",
       "      <td>2.5</td>\n",
       "      <td>6.0</td>\n",
       "      <td>8.5</td>\n",
       "      <td>12.5</td>\n",
       "      <td>180.00</td>\n",
       "    </tr>\n",
       "  </tbody>\n",
       "</table>\n",
       "</div>"
      ],
      "text/plain": [
       "            count       mean        std  min  25%  50%   75%     max\n",
       "day                                                                 \n",
       "Friday     7668.0  11.402240   9.508604 -3.0  6.1  8.5  13.0  165.00\n",
       "Monday     6639.0  11.569060  10.536296 -5.0  6.0  8.1  12.5  160.00\n",
       "Saturday   7629.0  11.143759   9.201833  2.5  6.0  8.5  12.5  165.00\n",
       "Sunday     6518.0  11.520578   9.954766 -2.5  6.0  8.5  13.0  200.00\n",
       "Thursday   7406.0  11.668594   9.983516 -2.5  6.0  8.5  13.0  149.00\n",
       "Tuesday    6927.0  11.166999   9.282690 -2.9  6.0  8.5  12.5   92.49\n",
       "Wednesday  7212.0  11.104773   9.357399  2.5  6.0  8.5  12.5  180.00"
      ]
     },
     "execution_count": 45,
     "metadata": {},
     "output_type": "execute_result"
    }
   ],
   "source": [
    "tf.groupby('day')['amount'].describe()"
   ]
  },
  {
   "cell_type": "code",
   "execution_count": 46,
   "id": "6c8301a2",
   "metadata": {},
   "outputs": [
    {
     "data": {
      "image/png": "[encoded data removed]",
      "text/plain": [
       "<Figure size 432x288 with 1 Axes>"
      ]
     },
     "metadata": {
      "needs_background": "light"
     },
     "output_type": "display_data"
    }
   ],
   "source": [
    "plt.plot(tf.groupby('day')['amount'].count())\n",
    "plt.title(\"Daywise counts\")\n",
    "plt.show()"
   ]
  },
  {
   "cell_type": "code",
   "execution_count": 47,
   "id": "87b72dbd",
   "metadata": {},
   "outputs": [
    {
     "data": {
      "image/png": "[encoded data removed]",
      "text/plain": [
       "<Figure size 432x288 with 1 Axes>"
      ]
     },
     "metadata": {
      "needs_background": "light"
     },
     "output_type": "display_data"
    }
   ],
   "source": [
    "plt.plot(tf.groupby('day')['amount'].mean())\n",
    "plt.title(\"Daywise mean fare\")\n",
    "plt.show()"
   ]
  },
  {
   "cell_type": "code",
   "execution_count": 48,
   "id": "ac862717",
   "metadata": {},
   "outputs": [],
   "source": [
    "day = {'Sunday':1,'Monday':2, 'Tuesday':3, 'Wednesday':4, 'Thursday':5, \n",
    "       'Friday':6, 'Saturday':7 }"
   ]
  },
  {
   "cell_type": "code",
   "execution_count": 49,
   "id": "41a7e26d",
   "metadata": {},
   "outputs": [],
   "source": [
    "tf.day = [day[item] for item in tf.day]"
   ]
  },
  {
   "cell_type": "code",
   "execution_count": 50,
   "id": "e64f063e",
   "metadata": {},
   "outputs": [
    {
     "data": {
      "text/plain": [
       "0    2\n",
       "1    3\n",
       "2    5\n",
       "3    7\n",
       "4    3\n",
       "Name: day, dtype: int64"
      ]
     },
     "execution_count": 50,
     "metadata": {},
     "output_type": "execute_result"
    }
   ],
   "source": [
    "tf.day.head()"
   ]
  },
  {
   "cell_type": "code",
   "execution_count": 51,
   "id": "2328120a",
   "metadata": {},
   "outputs": [
    {
     "data": {
      "text/plain": [
       "Text(0.5, 1.0, 'Hourly counting')"
      ]
     },
     "execution_count": 51,
     "metadata": {},
     "output_type": "execute_result"
    },
    {
     "data": {
      "image/png": "[encoded data removed]",
      "text/plain": [
       "<Figure size 432x288 with 1 Axes>"
      ]
     },
     "metadata": {
      "needs_background": "light"
     },
     "output_type": "display_data"
    }
   ],
   "source": [
    "sns.countplot(x='hour', data=tf)\n",
    "plt.xlabel(\"Hour's\")\n",
    "plt.ylabel('counts')\n",
    "plt.title(\"Hourly counting\")"
   ]
  },
  {
   "cell_type": "code",
   "execution_count": 52,
   "id": "1c3fb361",
   "metadata": {},
   "outputs": [],
   "source": [
    "props2 = dict(boxes = 'red', whiskers = 'green', medians = 'black', caps = 'red')"
   ]
  },
  {
   "cell_type": "code",
   "execution_count": 53,
   "id": "23349705",
   "metadata": {},
   "outputs": [
    {
     "data": {
      "text/plain": [
       "<AxesSubplot:>"
      ]
     },
     "execution_count": 53,
     "metadata": {},
     "output_type": "execute_result"
    },
    {
     "data": {
      "image/png": "[encoded data removed]",
      "text/plain": [
       "<Figure size 432x288 with 1 Axes>"
      ]
     },
     "metadata": {
      "needs_background": "light"
     },
     "output_type": "display_data"
    }
   ],
   "source": [
    "tf.hour.plot.box(color=props2, patch_artist = True, vert = False)"
   ]
  },
  {
   "cell_type": "code",
   "execution_count": 54,
   "id": "3c98f323",
   "metadata": {},
   "outputs": [
    {
     "data": {
      "text/html": [
       "<div>\n",
       "<style scoped>\n",
       "    .dataframe tbody tr th:only-of-type {\n",
       "        vertical-align: middle;\n",
       "    }\n",
       "\n",
       "    .dataframe tbody tr th {\n",
       "        vertical-align: top;\n",
       "    }\n",
       "\n",
       "    .dataframe thead th {\n",
       "        text-align: right;\n",
       "    }\n",
       "</style>\n",
       "<table border=\"1\" class=\"dataframe\">\n",
       "  <thead>\n",
       "    <tr style=\"text-align: right;\">\n",
       "      <th></th>\n",
       "      <th>count</th>\n",
       "      <th>mean</th>\n",
       "      <th>std</th>\n",
       "      <th>min</th>\n",
       "      <th>25%</th>\n",
       "      <th>50%</th>\n",
       "      <th>75%</th>\n",
       "      <th>max</th>\n",
       "    </tr>\n",
       "    <tr>\n",
       "      <th>hour</th>\n",
       "      <th></th>\n",
       "      <th></th>\n",
       "      <th></th>\n",
       "      <th></th>\n",
       "      <th></th>\n",
       "      <th></th>\n",
       "      <th></th>\n",
       "      <th></th>\n",
       "    </tr>\n",
       "  </thead>\n",
       "  <tbody>\n",
       "    <tr>\n",
       "      <th>0</th>\n",
       "      <td>1890.0</td>\n",
       "      <td>11.922873</td>\n",
       "      <td>8.592224</td>\n",
       "      <td>2.5</td>\n",
       "      <td>6.50</td>\n",
       "      <td>9.30</td>\n",
       "      <td>14.50</td>\n",
       "      <td>88.25</td>\n",
       "    </tr>\n",
       "    <tr>\n",
       "      <th>1</th>\n",
       "      <td>1484.0</td>\n",
       "      <td>11.726065</td>\n",
       "      <td>9.043038</td>\n",
       "      <td>2.5</td>\n",
       "      <td>6.50</td>\n",
       "      <td>9.00</td>\n",
       "      <td>14.10</td>\n",
       "      <td>128.83</td>\n",
       "    </tr>\n",
       "    <tr>\n",
       "      <th>2</th>\n",
       "      <td>1088.0</td>\n",
       "      <td>11.246765</td>\n",
       "      <td>8.628222</td>\n",
       "      <td>2.5</td>\n",
       "      <td>6.10</td>\n",
       "      <td>8.90</td>\n",
       "      <td>13.70</td>\n",
       "      <td>136.00</td>\n",
       "    </tr>\n",
       "    <tr>\n",
       "      <th>3</th>\n",
       "      <td>847.0</td>\n",
       "      <td>12.087237</td>\n",
       "      <td>12.358673</td>\n",
       "      <td>2.5</td>\n",
       "      <td>6.00</td>\n",
       "      <td>8.90</td>\n",
       "      <td>14.50</td>\n",
       "      <td>200.00</td>\n",
       "    </tr>\n",
       "    <tr>\n",
       "      <th>4</th>\n",
       "      <td>610.0</td>\n",
       "      <td>13.740623</td>\n",
       "      <td>10.944349</td>\n",
       "      <td>2.5</td>\n",
       "      <td>6.50</td>\n",
       "      <td>10.00</td>\n",
       "      <td>17.70</td>\n",
       "      <td>80.35</td>\n",
       "    </tr>\n",
       "    <tr>\n",
       "      <th>5</th>\n",
       "      <td>508.0</td>\n",
       "      <td>15.338209</td>\n",
       "      <td>14.856332</td>\n",
       "      <td>-2.5</td>\n",
       "      <td>5.95</td>\n",
       "      <td>9.15</td>\n",
       "      <td>18.60</td>\n",
       "      <td>82.50</td>\n",
       "    </tr>\n",
       "    <tr>\n",
       "      <th>6</th>\n",
       "      <td>1017.0</td>\n",
       "      <td>12.280570</td>\n",
       "      <td>12.168081</td>\n",
       "      <td>2.5</td>\n",
       "      <td>5.30</td>\n",
       "      <td>7.70</td>\n",
       "      <td>12.50</td>\n",
       "      <td>78.50</td>\n",
       "    </tr>\n",
       "    <tr>\n",
       "      <th>7</th>\n",
       "      <td>1899.0</td>\n",
       "      <td>11.121827</td>\n",
       "      <td>10.251250</td>\n",
       "      <td>2.5</td>\n",
       "      <td>5.70</td>\n",
       "      <td>8.00</td>\n",
       "      <td>11.70</td>\n",
       "      <td>87.00</td>\n",
       "    </tr>\n",
       "    <tr>\n",
       "      <th>8</th>\n",
       "      <td>2209.0</td>\n",
       "      <td>10.611852</td>\n",
       "      <td>8.604485</td>\n",
       "      <td>-3.0</td>\n",
       "      <td>6.00</td>\n",
       "      <td>8.10</td>\n",
       "      <td>11.70</td>\n",
       "      <td>95.00</td>\n",
       "    </tr>\n",
       "    <tr>\n",
       "      <th>9</th>\n",
       "      <td>2379.0</td>\n",
       "      <td>10.533871</td>\n",
       "      <td>8.120353</td>\n",
       "      <td>2.5</td>\n",
       "      <td>5.70</td>\n",
       "      <td>8.10</td>\n",
       "      <td>12.00</td>\n",
       "      <td>79.00</td>\n",
       "    </tr>\n",
       "    <tr>\n",
       "      <th>10</th>\n",
       "      <td>2259.0</td>\n",
       "      <td>10.852470</td>\n",
       "      <td>9.561050</td>\n",
       "      <td>-5.0</td>\n",
       "      <td>5.70</td>\n",
       "      <td>8.10</td>\n",
       "      <td>11.85</td>\n",
       "      <td>135.00</td>\n",
       "    </tr>\n",
       "    <tr>\n",
       "      <th>11</th>\n",
       "      <td>2356.0</td>\n",
       "      <td>11.091273</td>\n",
       "      <td>9.610739</td>\n",
       "      <td>2.5</td>\n",
       "      <td>6.00</td>\n",
       "      <td>8.30</td>\n",
       "      <td>12.50</td>\n",
       "      <td>160.00</td>\n",
       "    </tr>\n",
       "    <tr>\n",
       "      <th>12</th>\n",
       "      <td>2471.0</td>\n",
       "      <td>11.263934</td>\n",
       "      <td>9.196111</td>\n",
       "      <td>2.5</td>\n",
       "      <td>6.00</td>\n",
       "      <td>8.50</td>\n",
       "      <td>12.50</td>\n",
       "      <td>89.90</td>\n",
       "    </tr>\n",
       "    <tr>\n",
       "      <th>13</th>\n",
       "      <td>2475.0</td>\n",
       "      <td>11.654630</td>\n",
       "      <td>10.237041</td>\n",
       "      <td>-2.5</td>\n",
       "      <td>6.10</td>\n",
       "      <td>8.50</td>\n",
       "      <td>12.50</td>\n",
       "      <td>93.75</td>\n",
       "    </tr>\n",
       "    <tr>\n",
       "      <th>14</th>\n",
       "      <td>2471.0</td>\n",
       "      <td>12.086860</td>\n",
       "      <td>10.670418</td>\n",
       "      <td>0.0</td>\n",
       "      <td>6.10</td>\n",
       "      <td>8.50</td>\n",
       "      <td>13.00</td>\n",
       "      <td>88.00</td>\n",
       "    </tr>\n",
       "    <tr>\n",
       "      <th>15</th>\n",
       "      <td>2355.0</td>\n",
       "      <td>12.070505</td>\n",
       "      <td>11.269364</td>\n",
       "      <td>-2.5</td>\n",
       "      <td>6.00</td>\n",
       "      <td>8.50</td>\n",
       "      <td>12.90</td>\n",
       "      <td>104.67</td>\n",
       "    </tr>\n",
       "    <tr>\n",
       "      <th>16</th>\n",
       "      <td>2045.0</td>\n",
       "      <td>12.241614</td>\n",
       "      <td>11.503268</td>\n",
       "      <td>2.5</td>\n",
       "      <td>5.70</td>\n",
       "      <td>8.10</td>\n",
       "      <td>12.90</td>\n",
       "      <td>82.50</td>\n",
       "    </tr>\n",
       "    <tr>\n",
       "      <th>17</th>\n",
       "      <td>2490.0</td>\n",
       "      <td>11.331663</td>\n",
       "      <td>9.927398</td>\n",
       "      <td>2.5</td>\n",
       "      <td>6.00</td>\n",
       "      <td>8.50</td>\n",
       "      <td>12.50</td>\n",
       "      <td>120.00</td>\n",
       "    </tr>\n",
       "    <tr>\n",
       "      <th>18</th>\n",
       "      <td>3077.0</td>\n",
       "      <td>11.150640</td>\n",
       "      <td>9.525704</td>\n",
       "      <td>2.5</td>\n",
       "      <td>6.00</td>\n",
       "      <td>8.50</td>\n",
       "      <td>12.50</td>\n",
       "      <td>143.00</td>\n",
       "    </tr>\n",
       "    <tr>\n",
       "      <th>19</th>\n",
       "      <td>3118.0</td>\n",
       "      <td>10.734413</td>\n",
       "      <td>8.577008</td>\n",
       "      <td>0.0</td>\n",
       "      <td>6.00</td>\n",
       "      <td>8.10</td>\n",
       "      <td>12.10</td>\n",
       "      <td>92.49</td>\n",
       "    </tr>\n",
       "    <tr>\n",
       "      <th>20</th>\n",
       "      <td>2859.0</td>\n",
       "      <td>10.736439</td>\n",
       "      <td>9.028118</td>\n",
       "      <td>2.5</td>\n",
       "      <td>6.10</td>\n",
       "      <td>8.10</td>\n",
       "      <td>12.00</td>\n",
       "      <td>180.00</td>\n",
       "    </tr>\n",
       "    <tr>\n",
       "      <th>21</th>\n",
       "      <td>2817.0</td>\n",
       "      <td>11.062478</td>\n",
       "      <td>9.081034</td>\n",
       "      <td>0.0</td>\n",
       "      <td>6.10</td>\n",
       "      <td>8.50</td>\n",
       "      <td>12.50</td>\n",
       "      <td>165.00</td>\n",
       "    </tr>\n",
       "    <tr>\n",
       "      <th>22</th>\n",
       "      <td>2808.0</td>\n",
       "      <td>11.035808</td>\n",
       "      <td>8.064685</td>\n",
       "      <td>2.5</td>\n",
       "      <td>6.10</td>\n",
       "      <td>8.50</td>\n",
       "      <td>12.90</td>\n",
       "      <td>85.00</td>\n",
       "    </tr>\n",
       "    <tr>\n",
       "      <th>23</th>\n",
       "      <td>2467.0</td>\n",
       "      <td>11.355910</td>\n",
       "      <td>8.905995</td>\n",
       "      <td>-2.9</td>\n",
       "      <td>6.10</td>\n",
       "      <td>8.50</td>\n",
       "      <td>13.30</td>\n",
       "      <td>128.61</td>\n",
       "    </tr>\n",
       "  </tbody>\n",
       "</table>\n",
       "</div>"
      ],
      "text/plain": [
       "       count       mean        std  min   25%    50%    75%     max\n",
       "hour                                                               \n",
       "0     1890.0  11.922873   8.592224  2.5  6.50   9.30  14.50   88.25\n",
       "1     1484.0  11.726065   9.043038  2.5  6.50   9.00  14.10  128.83\n",
       "2     1088.0  11.246765   8.628222  2.5  6.10   8.90  13.70  136.00\n",
       "3      847.0  12.087237  12.358673  2.5  6.00   8.90  14.50  200.00\n",
       "4      610.0  13.740623  10.944349  2.5  6.50  10.00  17.70   80.35\n",
       "5      508.0  15.338209  14.856332 -2.5  5.95   9.15  18.60   82.50\n",
       "6     1017.0  12.280570  12.168081  2.5  5.30   7.70  12.50   78.50\n",
       "7     1899.0  11.121827  10.251250  2.5  5.70   8.00  11.70   87.00\n",
       "8     2209.0  10.611852   8.604485 -3.0  6.00   8.10  11.70   95.00\n",
       "9     2379.0  10.533871   8.120353  2.5  5.70   8.10  12.00   79.00\n",
       "10    2259.0  10.852470   9.561050 -5.0  5.70   8.10  11.85  135.00\n",
       "11    2356.0  11.091273   9.610739  2.5  6.00   8.30  12.50  160.00\n",
       "12    2471.0  11.263934   9.196111  2.5  6.00   8.50  12.50   89.90\n",
       "13    2475.0  11.654630  10.237041 -2.5  6.10   8.50  12.50   93.75\n",
       "14    2471.0  12.086860  10.670418  0.0  6.10   8.50  13.00   88.00\n",
       "15    2355.0  12.070505  11.269364 -2.5  6.00   8.50  12.90  104.67\n",
       "16    2045.0  12.241614  11.503268  2.5  5.70   8.10  12.90   82.50\n",
       "17    2490.0  11.331663   9.927398  2.5  6.00   8.50  12.50  120.00\n",
       "18    3077.0  11.150640   9.525704  2.5  6.00   8.50  12.50  143.00\n",
       "19    3118.0  10.734413   8.577008  0.0  6.00   8.10  12.10   92.49\n",
       "20    2859.0  10.736439   9.028118  2.5  6.10   8.10  12.00  180.00\n",
       "21    2817.0  11.062478   9.081034  0.0  6.10   8.50  12.50  165.00\n",
       "22    2808.0  11.035808   8.064685  2.5  6.10   8.50  12.90   85.00\n",
       "23    2467.0  11.355910   8.905995 -2.9  6.10   8.50  13.30  128.61"
      ]
     },
     "execution_count": 54,
     "metadata": {},
     "output_type": "execute_result"
    }
   ],
   "source": [
    "tf.groupby('hour')['amount'].describe()"
   ]
  },
  {
   "cell_type": "code",
   "execution_count": 55,
   "id": "af9ed0d0",
   "metadata": {},
   "outputs": [
    {
     "data": {
      "image/png": "[encoded data removed]",
      "text/plain": [
       "<Figure size 432x288 with 1 Axes>"
      ]
     },
     "metadata": {
      "needs_background": "light"
     },
     "output_type": "display_data"
    }
   ],
   "source": [
    "plt.plot(tf.groupby('hour')['amount'].mean())\n",
    "plt.title(\"Hourly mean fare\")\n",
    "plt.show()"
   ]
  },
  {
   "cell_type": "code",
   "execution_count": 56,
   "id": "e08ec379",
   "metadata": {},
   "outputs": [
    {
     "data": {
      "image/png": "[encoded data removed]",
      "text/plain": [
       "<Figure size 432x288 with 1 Axes>"
      ]
     },
     "metadata": {
      "needs_background": "light"
     },
     "output_type": "display_data"
    }
   ],
   "source": [
    "plt.plot(tf.groupby('hour')['amount'].count())\n",
    "plt.title(\"Hourly counts\")\n",
    "plt.show()"
   ]
  },
  {
   "cell_type": "markdown",
   "id": "198f9e3f",
   "metadata": {},
   "source": [
    "# Making Model Decision Tree"
   ]
  },
  {
   "cell_type": "code",
   "execution_count": 57,
   "id": "d5ff74fd",
   "metadata": {},
   "outputs": [],
   "source": [
    "x = tf.iloc[:,3:12]"
   ]
  },
  {
   "cell_type": "code",
   "execution_count": 58,
   "id": "7438196f",
   "metadata": {},
   "outputs": [],
   "source": [
    "y = tf.iloc[:,1]"
   ]
  },
  {
   "cell_type": "code",
   "execution_count": 59,
   "id": "e46e35d9",
   "metadata": {},
   "outputs": [
    {
     "name": "stdout",
     "output_type": "stream",
     "text": [
      "34999\n",
      "15000\n",
      "34999\n",
      "15000\n"
     ]
    }
   ],
   "source": [
    "from sklearn.model_selection import train_test_split\n",
    "x_train, x_test, y_train, y_test = train_test_split(x,y, test_size=0.3, random_state=123)\n",
    "print(len(x_train)) #35000\n",
    "print(len(x_test)) #15000)\n",
    "print(len(y_train)) #35000\n",
    "print(len(y_test)) #15000"
   ]
  },
  {
   "cell_type": "code",
   "execution_count": 60,
   "id": "bcde3804",
   "metadata": {},
   "outputs": [
    {
     "data": {
      "text/html": [
       "<div>\n",
       "<style scoped>\n",
       "    .dataframe tbody tr th:only-of-type {\n",
       "        vertical-align: middle;\n",
       "    }\n",
       "\n",
       "    .dataframe tbody tr th {\n",
       "        vertical-align: top;\n",
       "    }\n",
       "\n",
       "    .dataframe thead th {\n",
       "        text-align: right;\n",
       "    }\n",
       "</style>\n",
       "<table border=\"1\" class=\"dataframe\">\n",
       "  <thead>\n",
       "    <tr style=\"text-align: right;\">\n",
       "      <th></th>\n",
       "      <th>longitude_of_pickup</th>\n",
       "      <th>latitude_of_pickup</th>\n",
       "      <th>longitude_of_dropoff</th>\n",
       "      <th>latitude_of_dropoff</th>\n",
       "      <th>no_of_passenger</th>\n",
       "      <th>Distance</th>\n",
       "      <th>year</th>\n",
       "      <th>month</th>\n",
       "      <th>day</th>\n",
       "    </tr>\n",
       "  </thead>\n",
       "  <tbody>\n",
       "    <tr>\n",
       "      <th>0</th>\n",
       "      <td>-73.844311</td>\n",
       "      <td>40.721319</td>\n",
       "      <td>-73.841610</td>\n",
       "      <td>40.712278</td>\n",
       "      <td>1</td>\n",
       "      <td>0.41</td>\n",
       "      <td>2009</td>\n",
       "      <td>6</td>\n",
       "      <td>2</td>\n",
       "    </tr>\n",
       "    <tr>\n",
       "      <th>1</th>\n",
       "      <td>-74.016048</td>\n",
       "      <td>40.711303</td>\n",
       "      <td>-73.979268</td>\n",
       "      <td>40.782004</td>\n",
       "      <td>1</td>\n",
       "      <td>4.63</td>\n",
       "      <td>2010</td>\n",
       "      <td>1</td>\n",
       "      <td>3</td>\n",
       "    </tr>\n",
       "    <tr>\n",
       "      <th>2</th>\n",
       "      <td>-73.982738</td>\n",
       "      <td>40.761270</td>\n",
       "      <td>-73.991242</td>\n",
       "      <td>40.750562</td>\n",
       "      <td>2</td>\n",
       "      <td>1.00</td>\n",
       "      <td>2011</td>\n",
       "      <td>8</td>\n",
       "      <td>5</td>\n",
       "    </tr>\n",
       "    <tr>\n",
       "      <th>3</th>\n",
       "      <td>-73.987130</td>\n",
       "      <td>40.733143</td>\n",
       "      <td>-73.991567</td>\n",
       "      <td>40.758092</td>\n",
       "      <td>1</td>\n",
       "      <td>0.91</td>\n",
       "      <td>2012</td>\n",
       "      <td>4</td>\n",
       "      <td>7</td>\n",
       "    </tr>\n",
       "    <tr>\n",
       "      <th>4</th>\n",
       "      <td>-73.968095</td>\n",
       "      <td>40.768008</td>\n",
       "      <td>-73.956655</td>\n",
       "      <td>40.783762</td>\n",
       "      <td>1</td>\n",
       "      <td>1.36</td>\n",
       "      <td>2010</td>\n",
       "      <td>3</td>\n",
       "      <td>3</td>\n",
       "    </tr>\n",
       "    <tr>\n",
       "      <th>...</th>\n",
       "      <td>...</td>\n",
       "      <td>...</td>\n",
       "      <td>...</td>\n",
       "      <td>...</td>\n",
       "      <td>...</td>\n",
       "      <td>...</td>\n",
       "      <td>...</td>\n",
       "      <td>...</td>\n",
       "      <td>...</td>\n",
       "    </tr>\n",
       "    <tr>\n",
       "      <th>49995</th>\n",
       "      <td>-73.999973</td>\n",
       "      <td>40.748531</td>\n",
       "      <td>-74.016899</td>\n",
       "      <td>40.705993</td>\n",
       "      <td>1</td>\n",
       "      <td>2.29</td>\n",
       "      <td>2013</td>\n",
       "      <td>6</td>\n",
       "      <td>4</td>\n",
       "    </tr>\n",
       "    <tr>\n",
       "      <th>49996</th>\n",
       "      <td>-73.984756</td>\n",
       "      <td>40.768211</td>\n",
       "      <td>-73.987366</td>\n",
       "      <td>40.760597</td>\n",
       "      <td>1</td>\n",
       "      <td>0.37</td>\n",
       "      <td>2015</td>\n",
       "      <td>6</td>\n",
       "      <td>2</td>\n",
       "    </tr>\n",
       "    <tr>\n",
       "      <th>49997</th>\n",
       "      <td>-74.002698</td>\n",
       "      <td>40.739428</td>\n",
       "      <td>-73.998108</td>\n",
       "      <td>40.759483</td>\n",
       "      <td>1</td>\n",
       "      <td>0.80</td>\n",
       "      <td>2011</td>\n",
       "      <td>1</td>\n",
       "      <td>1</td>\n",
       "    </tr>\n",
       "    <tr>\n",
       "      <th>49998</th>\n",
       "      <td>-73.946062</td>\n",
       "      <td>40.777567</td>\n",
       "      <td>-73.953450</td>\n",
       "      <td>40.779687</td>\n",
       "      <td>2</td>\n",
       "      <td>0.82</td>\n",
       "      <td>2012</td>\n",
       "      <td>11</td>\n",
       "      <td>3</td>\n",
       "    </tr>\n",
       "    <tr>\n",
       "      <th>49999</th>\n",
       "      <td>-73.932603</td>\n",
       "      <td>40.763805</td>\n",
       "      <td>-73.932603</td>\n",
       "      <td>40.763805</td>\n",
       "      <td>1</td>\n",
       "      <td>0.00</td>\n",
       "      <td>2010</td>\n",
       "      <td>1</td>\n",
       "      <td>4</td>\n",
       "    </tr>\n",
       "  </tbody>\n",
       "</table>\n",
       "<p>49999 rows × 9 columns</p>\n",
       "</div>"
      ],
      "text/plain": [
       "       longitude_of_pickup  latitude_of_pickup  longitude_of_dropoff  \\\n",
       "0               -73.844311           40.721319            -73.841610   \n",
       "1               -74.016048           40.711303            -73.979268   \n",
       "2               -73.982738           40.761270            -73.991242   \n",
       "3               -73.987130           40.733143            -73.991567   \n",
       "4               -73.968095           40.768008            -73.956655   \n",
       "...                    ...                 ...                   ...   \n",
       "49995           -73.999973           40.748531            -74.016899   \n",
       "49996           -73.984756           40.768211            -73.987366   \n",
       "49997           -74.002698           40.739428            -73.998108   \n",
       "49998           -73.946062           40.777567            -73.953450   \n",
       "49999           -73.932603           40.763805            -73.932603   \n",
       "\n",
       "       latitude_of_dropoff  no_of_passenger  Distance  year  month  day  \n",
       "0                40.712278                1      0.41  2009      6    2  \n",
       "1                40.782004                1      4.63  2010      1    3  \n",
       "2                40.750562                2      1.00  2011      8    5  \n",
       "3                40.758092                1      0.91  2012      4    7  \n",
       "4                40.783762                1      1.36  2010      3    3  \n",
       "...                    ...              ...       ...   ...    ...  ...  \n",
       "49995            40.705993                1      2.29  2013      6    4  \n",
       "49996            40.760597                1      0.37  2015      6    2  \n",
       "49997            40.759483                1      0.80  2011      1    1  \n",
       "49998            40.779687                2      0.82  2012     11    3  \n",
       "49999            40.763805                1      0.00  2010      1    4  \n",
       "\n",
       "[49999 rows x 9 columns]"
      ]
     },
     "execution_count": 60,
     "metadata": {},
     "output_type": "execute_result"
    }
   ],
   "source": [
    "x"
   ]
  },
  {
   "cell_type": "code",
   "execution_count": 61,
   "id": "691bbb19",
   "metadata": {},
   "outputs": [
    {
     "data": {
      "text/plain": [
       "0         4.5\n",
       "1        16.9\n",
       "2         5.7\n",
       "3         7.7\n",
       "4         5.3\n",
       "         ... \n",
       "49995    15.0\n",
       "49996     7.5\n",
       "49997     6.9\n",
       "49998     4.5\n",
       "49999    10.9\n",
       "Name: amount, Length: 49999, dtype: float64"
      ]
     },
     "execution_count": 61,
     "metadata": {},
     "output_type": "execute_result"
    }
   ],
   "source": [
    "y"
   ]
  },
  {
   "cell_type": "code",
   "execution_count": 62,
   "id": "17eebef6",
   "metadata": {},
   "outputs": [],
   "source": [
    "from sklearn.tree import DecisionTreeRegressor\n",
    "clf = DecisionTreeRegressor()"
   ]
  },
  {
   "cell_type": "code",
   "execution_count": 63,
   "id": "da7490e4",
   "metadata": {},
   "outputs": [
    {
     "data": {
      "text/plain": [
       "DecisionTreeRegressor()"
      ]
     },
     "execution_count": 63,
     "metadata": {},
     "output_type": "execute_result"
    }
   ],
   "source": [
    "clf.fit(x_train, y_train)"
   ]
  },
  {
   "cell_type": "code",
   "execution_count": 64,
   "id": "1a5c133a",
   "metadata": {},
   "outputs": [],
   "source": [
    "y_pred = clf.predict(x_test)"
   ]
  },
  {
   "cell_type": "code",
   "execution_count": 65,
   "id": "1d7bbf19",
   "metadata": {},
   "outputs": [
    {
     "data": {
      "text/plain": [
       "43"
      ]
     },
     "execution_count": 65,
     "metadata": {},
     "output_type": "execute_result"
    }
   ],
   "source": [
    "clf.get_depth()"
   ]
  },
  {
   "cell_type": "code",
   "execution_count": 66,
   "id": "cf15e572",
   "metadata": {},
   "outputs": [],
   "source": [
    "depth = list(range(1,12))\n",
    "\n",
    "mse_train, mse_test = [],[]\n",
    "\n",
    "for i in depth:\n",
    "    prdctr = DecisionTreeRegressor(max_depth= i, random_state=25)       \n",
    "    prdctr.fit(x_train, y_train)\n",
    "    y_train_pred=prdctr.predict(x_train)\n",
    "    y_test_pred=prdctr.predict(x_test)\n",
    "    \n",
    "    mse_train.append(mean_squared_error(y_train, y_train_pred))\n",
    "    mse_test.append(mean_squared_error(y_test, y_test_pred))"
   ]
  },
  {
   "cell_type": "code",
   "execution_count": 67,
   "id": "e8d314b0",
   "metadata": {},
   "outputs": [
    {
     "data": {
      "text/plain": [
       "[47.56106085923342,\n",
       " 35.05354693139396,\n",
       " 32.71754194981431,\n",
       " 30.36901778241282,\n",
       " 29.49139592970425,\n",
       " 27.810707353367096,\n",
       " 29.39652108858899,\n",
       " 30.19280917356488,\n",
       " 29.48588341697875,\n",
       " 30.70559560819211,\n",
       " 30.800546475592128]"
      ]
     },
     "execution_count": 67,
     "metadata": {},
     "output_type": "execute_result"
    }
   ],
   "source": [
    "mse_test"
   ]
  },
  {
   "cell_type": "code",
   "execution_count": 68,
   "id": "3a103af0",
   "metadata": {},
   "outputs": [
    {
     "data": {
      "text/plain": [
       "[51.32152720762313,\n",
       " 40.01775504753377,\n",
       " 34.63543685994401,\n",
       " 30.65493854956872,\n",
       " 27.43491610793963,\n",
       " 24.905888768754426,\n",
       " 22.651871156568216,\n",
       " 20.944882930368237,\n",
       " 19.623577054017996,\n",
       " 17.451131541915295,\n",
       " 15.77543297593093]"
      ]
     },
     "execution_count": 68,
     "metadata": {},
     "output_type": "execute_result"
    }
   ],
   "source": [
    "mse_train"
   ]
  },
  {
   "cell_type": "code",
   "execution_count": 69,
   "id": "88a57001",
   "metadata": {},
   "outputs": [
    {
     "data": {
      "image/png": "[encoded data removed]",
      "text/plain": [
       "<Figure size 720x360 with 1 Axes>"
      ]
     },
     "metadata": {
      "needs_background": "light"
     },
     "output_type": "display_data"
    }
   ],
   "source": [
    "plt.figure(figsize = (10,5))\n",
    "sns.lineplot(y=mse_train, x = depth, label = 'Train_mse')\n",
    "sns.lineplot(y=mse_test, x = depth, label = 'Test_mse')\n",
    "plt.xticks(ticks=np.arange(1,12,1))\n",
    "plt.show()"
   ]
  },
  {
   "cell_type": "code",
   "execution_count": 70,
   "id": "d7c2d2d7",
   "metadata": {},
   "outputs": [],
   "source": [
    "# We can say the maximum depth is around 6"
   ]
  },
  {
   "cell_type": "code",
   "execution_count": 71,
   "id": "613488b8",
   "metadata": {},
   "outputs": [],
   "source": [
    "clf = DecisionTreeRegressor(max_depth= 6, random_state=25)"
   ]
  },
  {
   "cell_type": "code",
   "execution_count": 72,
   "id": "f8bf5201",
   "metadata": {},
   "outputs": [],
   "source": [
    "tf_clf = clf.fit(x_train, y_train)"
   ]
  },
  {
   "cell_type": "code",
   "execution_count": 73,
   "id": "fa37dfe0",
   "metadata": {},
   "outputs": [],
   "source": [
    "y_pred = tf_clf.predict(x_test)"
   ]
  },
  {
   "cell_type": "code",
   "execution_count": 74,
   "id": "516846ef",
   "metadata": {},
   "outputs": [],
   "source": [
    "y_ptr = tf_clf.predict(x_train)"
   ]
  },
  {
   "cell_type": "code",
   "execution_count": 75,
   "id": "0b1dcafa",
   "metadata": {},
   "outputs": [
    {
     "data": {
      "text/plain": [
       "27.810707353367096"
      ]
     },
     "execution_count": 75,
     "metadata": {},
     "output_type": "execute_result"
    }
   ],
   "source": [
    "mean_squared_error(y_pred,y_test)"
   ]
  },
  {
   "cell_type": "code",
   "execution_count": 76,
   "id": "7536d108",
   "metadata": {},
   "outputs": [
    {
     "data": {
      "text/plain": [
       "24.905888768754426"
      ]
     },
     "execution_count": 76,
     "metadata": {},
     "output_type": "execute_result"
    }
   ],
   "source": [
    "mean_squared_error(y_ptr,y_train)"
   ]
  },
  {
   "cell_type": "code",
   "execution_count": 77,
   "id": "0af0ea76",
   "metadata": {},
   "outputs": [
    {
     "data": {
      "text/plain": [
       "0.7017943848532926"
      ]
     },
     "execution_count": 77,
     "metadata": {},
     "output_type": "execute_result"
    }
   ],
   "source": [
    "clf.score(x_test,y_test)"
   ]
  },
  {
   "cell_type": "code",
   "execution_count": 78,
   "id": "b0367ea7",
   "metadata": {},
   "outputs": [
    {
     "data": {
      "text/plain": [
       "6"
      ]
     },
     "execution_count": 78,
     "metadata": {},
     "output_type": "execute_result"
    }
   ],
   "source": [
    "clf.get_depth()"
   ]
  },
  {
   "cell_type": "code",
   "execution_count": 79,
   "id": "face0f56",
   "metadata": {},
   "outputs": [],
   "source": [
    "from sklearn.metrics import mean_squared_error\n",
    "mse = mean_squared_error(y_test, y_pred)\n",
    "RMSE = np.sqrt(mse)"
   ]
  },
  {
   "cell_type": "code",
   "execution_count": 80,
   "id": "2e8c163a",
   "metadata": {},
   "outputs": [
    {
     "data": {
      "text/plain": [
       "5.273585815492822"
      ]
     },
     "execution_count": 80,
     "metadata": {},
     "output_type": "execute_result"
    }
   ],
   "source": [
    "RMSE"
   ]
  },
  {
   "cell_type": "code",
   "execution_count": 81,
   "id": "7da29499",
   "metadata": {},
   "outputs": [
    {
     "data": {
      "text/plain": [
       "array([11.67640972, 19.67461462,  6.31390867, ...,  7.99139418,\n",
       "       14.06170996,  7.99139418])"
      ]
     },
     "execution_count": 81,
     "metadata": {},
     "output_type": "execute_result"
    }
   ],
   "source": [
    "y_pred"
   ]
  },
  {
   "cell_type": "code",
   "execution_count": 82,
   "id": "1126f1a1",
   "metadata": {},
   "outputs": [],
   "source": [
    "obs_No = list(range(1, 15001))"
   ]
  },
  {
   "cell_type": "code",
   "execution_count": 83,
   "id": "bae87d16",
   "metadata": {},
   "outputs": [
    {
     "data": {
      "image/png": "[encoded data removed]",
      "text/plain": [
       "<Figure size 432x288 with 1 Axes>"
      ]
     },
     "metadata": {
      "needs_background": "light"
     },
     "output_type": "display_data"
    }
   ],
   "source": [
    "plt.plot(obs_No, y_pred, 'r')\n",
    "plt.plot(obs_No, y_test, 'b')\n",
    "plt.xlabel('No of Observations')\n",
    "plt.ylabel('Test & Predict')\n",
    "plt.title('Decision Tree')\n",
    "plt.legend(labels= ('Test', 'Predict'), loc= 'upper left')\n",
    "plt.show()"
   ]
  },
  {
   "cell_type": "markdown",
   "id": "93de073f",
   "metadata": {},
   "source": [
    "# Making Model with Random Forest"
   ]
  },
  {
   "cell_type": "code",
   "execution_count": 86,
   "id": "2b06fb9a",
   "metadata": {},
   "outputs": [],
   "source": [
    "from sklearn.model_selection import RandomizedSearchCV\n",
    "from sklearn.ensemble import RandomForestRegressor"
   ]
  },
  {
   "cell_type": "code",
   "execution_count": 87,
   "id": "24ba9d90",
   "metadata": {},
   "outputs": [],
   "source": [
    "params = {'max_depth': [3,4,5,6,7,8]}\n",
    "\n",
    "rgr1 = RandomForestRegressor(random_state=123, n_estimators = 200)"
   ]
  },
  {
   "cell_type": "code",
   "execution_count": 88,
   "id": "cc55867a",
   "metadata": {},
   "outputs": [],
   "source": [
    "rgr2 = RandomizedSearchCV(rgr1, params, n_iter=10)"
   ]
  },
  {
   "cell_type": "code",
   "execution_count": 89,
   "id": "40884cd3",
   "metadata": {},
   "outputs": [
    {
     "name": "stderr",
     "output_type": "stream",
     "text": [
      "C:\\Anaconda\\lib\\site-packages\\sklearn\\model_selection\\_search.py:292: UserWarning: The total space of parameters 6 is smaller than n_iter=10. Running 6 iterations. For exhaustive searches, use GridSearchCV.\n",
      "  warnings.warn(\n"
     ]
    },
    {
     "data": {
      "text/plain": [
       "RandomizedSearchCV(estimator=RandomForestRegressor(n_estimators=200,\n",
       "                                                   random_state=123),\n",
       "                   param_distributions={'max_depth': [3, 4, 5, 6, 7, 8]})"
      ]
     },
     "execution_count": 89,
     "metadata": {},
     "output_type": "execute_result"
    }
   ],
   "source": [
    "rgr2.fit(x_train,y_train)"
   ]
  },
  {
   "cell_type": "code",
   "execution_count": 90,
   "id": "905017f1",
   "metadata": {},
   "outputs": [],
   "source": [
    "from pprint import pprint"
   ]
  },
  {
   "cell_type": "code",
   "execution_count": 91,
   "id": "00189928",
   "metadata": {},
   "outputs": [
    {
     "name": "stderr",
     "output_type": "stream",
     "text": [
      "C:\\Anaconda\\lib\\site-packages\\sklearn\\model_selection\\_search.py:292: UserWarning: The total space of parameters 6 is smaller than n_iter=10. Running 6 iterations. For exhaustive searches, use GridSearchCV.\n",
      "  warnings.warn(\n"
     ]
    },
    {
     "name": "stdout",
     "output_type": "stream",
     "text": [
      "{'bootstrap': True,\n",
      " 'ccp_alpha': 0.0,\n",
      " 'criterion': 'squared_error',\n",
      " 'max_depth': 8,\n",
      " 'max_features': 'auto',\n",
      " 'max_leaf_nodes': None,\n",
      " 'max_samples': None,\n",
      " 'min_impurity_decrease': 0.0,\n",
      " 'min_samples_leaf': 1,\n",
      " 'min_samples_split': 2,\n",
      " 'min_weight_fraction_leaf': 0.0,\n",
      " 'n_estimators': 200,\n",
      " 'n_jobs': None,\n",
      " 'oob_score': False,\n",
      " 'random_state': 123,\n",
      " 'verbose': 0,\n",
      " 'warm_start': False}\n"
     ]
    }
   ],
   "source": [
    "pprint(rgr2.fit(x_train,y_train).best_estimator_.get_params())"
   ]
  },
  {
   "cell_type": "code",
   "execution_count": null,
   "id": "c85b1ddc",
   "metadata": {},
   "outputs": [],
   "source": [
    "from sklearn.ensemble import RandomForestRegressor\n",
    "rfr = RandomForestRegressor(n_estimators = 200, max_depth=8, random_state=123) \n",
    "rfr.fit(x_train, y_train)"
   ]
  },
  {
   "cell_type": "code",
   "execution_count": null,
   "id": "c0f86af0",
   "metadata": {},
   "outputs": [],
   "source": [
    "y_pred = rfr.predict(x_test)"
   ]
  },
  {
   "cell_type": "code",
   "execution_count": null,
   "id": "1bdad1fa",
   "metadata": {},
   "outputs": [],
   "source": [
    "mse = mean_squared_error(y_test, y_pred)\n",
    "RMSE = np.sqrt(mse)\n",
    "print(RMSE)"
   ]
  },
  {
   "cell_type": "code",
   "execution_count": null,
   "id": "e9d75ea6",
   "metadata": {},
   "outputs": [],
   "source": [
    "rfr.score(x_test,y_test)"
   ]
  },
  {
   "cell_type": "code",
   "execution_count": null,
   "id": "beac02db",
   "metadata": {},
   "outputs": [],
   "source": []
  }
 ],
 "metadata": {
  "kernelspec": {
   "display_name": "Python 3 (ipykernel)",
   "language": "python",
   "name": "python3"
  },
  "language_info": {
   "codemirror_mode": {
    "name": "ipython",
    "version": 3
   },
   "file_extension": ".py",
   "mimetype": "text/x-python",
   "name": "python",
   "nbconvert_exporter": "python",
   "pygments_lexer": "ipython3",
   "version": "3.9.12"
  }
 },
 "nbformat": 4,
 "nbformat_minor": 5
}
